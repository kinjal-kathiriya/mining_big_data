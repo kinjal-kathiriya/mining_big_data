{
 "cells": [
  {
   "cell_type": "markdown",
   "id": "181f7f2a",
   "metadata": {},
   "source": [
    "## Dataset : \n",
    "\n",
    "https://data.cityofchicago.org/Public-Safety/Crimes-2022/9hwr-2zxp/about_data"
   ]
  },
  {
   "cell_type": "markdown",
   "id": "b85c842e",
   "metadata": {},
   "source": [
    "# Athena Integration\n",
    "This notebook demonstrates how to upload data to S3, create an Athena table, and query it."
   ]
  },
  {
   "cell_type": "code",
   "execution_count": null,
   "id": "360d3e35",
   "metadata": {},
   "outputs": [],
   "source": [
    "# Upload file to S3 using Boto3\n",
    "\n",
    "import boto3\n",
    "import os\n",
    "from botocore.exceptions import NoCredentialsError, ClientError\n",
    "\n",
    "# Config\n",
    "bucket_name = 'chicago-crime-data-kinjal'\n",
    "file_path = 'processed_data.csv'  # or 'processed_data.parquet'\n",
    "s3_key = 'raw/processed_data.csv'\n",
    "\n",
    "# Check if file exists\n",
    "if not os.path.exists(file_path):\n",
    "    raise FileNotFoundError(f\"Local file not found: {file_path}\")\n",
    "\n",
    "# Initialize S3 client (uses credentials from ~/.aws/credentials or environment)\n",
    "s3 = boto3.client('s3')\n",
    "\n",
    "# Upload\n",
    "try:\n",
    "    s3.upload_file(file_path, bucket_name, s3_key)\n",
    "    print(f\"✅ File successfully uploaded to s3://{bucket_name}/{s3_key}\")\n",
    "except FileNotFoundError:\n",
    "    print(\"The file was not found.\")\n",
    "except NoCredentialsError:\n",
    "    print(\"AWS credentials not available.\")\n",
    "except ClientError as e:\n",
    "    print(f\"Unexpected error: {e}\")\n"
   ]
  },
  {
   "cell_type": "code",
   "execution_count": null,
   "id": "ac25eaf4",
   "metadata": {},
   "outputs": [],
   "source": [
    "# Athena Table Creation SQL\n",
    "'''\n",
    "CREATE EXTERNAL TABLE IF NOT EXISTS chicago_crime (\n",
    "    id STRING,\n",
    "    case_number STRING,\n",
    "    date STRING,\n",
    "    primary_type STRING,\n",
    "    location_description STRING,\n",
    "    arrest BOOLEAN,\n",
    "    domestic BOOLEAN,\n",
    "    beat INT,\n",
    "    district INT,\n",
    "    ward INT,\n",
    "    community_area INT,\n",
    "    year INT,\n",
    "    latitude DOUBLE,\n",
    "    longitude DOUBLE\n",
    ")\n",
    "ROW FORMAT SERDE 'org.apache.hadoop.hive.serde2.lazy.LazySimpleSerDe'\n",
    "WITH SERDEPROPERTIES (\n",
    "  'serialization.format' = ',',\n",
    "  'field.delim' = ','\n",
    ")\n",
    "LOCATION 's3://chicago-crime-data-kinjal/raw/'\n",
    "TBLPROPERTIES (\n",
    "  'has_encrypted_data'='false',\n",
    "  'skip.header.line.count'='1'\n",
    ");\n",
    "\n",
    "'''"
   ]
  },
  {
   "cell_type": "markdown",
   "id": "c2e259a8",
   "metadata": {},
   "source": [
    "## 1. Upload Dataset to S3"
   ]
  },
  {
   "cell_type": "code",
   "execution_count": null,
   "id": "ee9e9681",
   "metadata": {},
   "outputs": [],
   "source": [
    "import boto3\n",
    "\n",
    "s3 = boto3.client('s3')\n",
    "bucket_name = 'chicago-crime-data-kinjal'\n",
    "file_path = 'Crimes_-_2001_to_Present.csv'\n",
    "s3.upload_file(file_path, bucket_name, 'raw/Crimes_-_2001_to_Present.csv')\n",
    "print(\"Upload complete.\")"
   ]
  },
  {
   "cell_type": "markdown",
   "id": "d9de2aec",
   "metadata": {},
   "source": [
    "## 2. Create Athena Table"
   ]
  },
  {
   "cell_type": "code",
   "execution_count": null,
   "id": "602bb934",
   "metadata": {},
   "outputs": [],
   "source": [
    "from pyathena import connect\n",
    "\n",
    "conn = connect(s3_staging_dir='s3://chicago-crime-data-kinjal/athena_output/',\n",
    "               region_name='us-east-1')\n",
    "\n",
    "create_table_query = \"\"\"CREATE EXTERNAL TABLE IF NOT EXISTS chicago_crime (\n",
    "    id STRING,\n",
    "    case_number STRING,\n",
    "    date STRING,\n",
    "    primary_type STRING,\n",
    "    location_description STRING,\n",
    "    arrest BOOLEAN,\n",
    "    domestic BOOLEAN,\n",
    "    beat INT,\n",
    "    district INT,\n",
    "    ward INT,\n",
    "    community_area INT,\n",
    "    year INT,\n",
    "    latitude DOUBLE,\n",
    "    longitude DOUBLE\n",
    ")\n",
    "ROW FORMAT SERDE 'org.apache.hadoop.hive.serde2.lazy.LazySimpleSerDe'\n",
    "WITH SERDEPROPERTIES (\n",
    "  'serialization.format' = ',',\n",
    "  'field.delim' = ','\n",
    ")\n",
    "LOCATION 's3://chicago-crime-data-kinjal/raw/'\n",
    "TBLPROPERTIES (\n",
    "  'has_encrypted_data'='false',\n",
    "  'skip.header.line.count'='1'\n",
    ");\"\"\"\n",
    "\n",
    "cursor = conn.cursor()\n",
    "cursor.execute(create_table_query)\n",
    "print(\"Athena table created.\")"
   ]
  },
  {
   "cell_type": "markdown",
   "id": "65b4979c",
   "metadata": {},
   "source": [
    "## 3. Query Athena Table"
   ]
  },
  {
   "cell_type": "code",
   "execution_count": null,
   "id": "6d530af7",
   "metadata": {},
   "outputs": [],
   "source": [
    "query = \"SELECT primary_type, COUNT(*) as cnt FROM chicago_crime GROUP BY primary_type ORDER BY cnt DESC LIMIT 10\"\n",
    "cursor.execute(query)\n",
    "for row in cursor.fetchall():\n",
    "    print(row)"
   ]
  }
 ],
 "metadata": {
  "language_info": {
   "name": "python"
  }
 },
 "nbformat": 4,
 "nbformat_minor": 5
}
